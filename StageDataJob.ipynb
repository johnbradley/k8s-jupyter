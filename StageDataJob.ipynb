{
 "cells": [
  {
   "cell_type": "code",
   "execution_count": 32,
   "metadata": {},
   "outputs": [],
   "source": [
    "from kubernetes import client, config, watch\n",
    "import json\n",
    "import base64"
   ]
  },
  {
   "cell_type": "code",
   "execution_count": 33,
   "metadata": {},
   "outputs": [],
   "source": [
    "namespace = 'volume-project'\n",
    "volume_name = 'job1-volume-claim'\n",
    "secret_name = 'bespin-dukeds-agent-creds'\n",
    "agent_key = 'TODO'\n",
    "user_key = 'TODO'\n",
    "ddsclient_secret_config = json.dumps({\"agent_key\": agent_key, \"user_key\": user_key})"
   ]
  },
  {
   "cell_type": "code",
   "execution_count": 34,
   "metadata": {},
   "outputs": [],
   "source": [
    "config.load_kube_config()"
   ]
  },
  {
   "cell_type": "code",
   "execution_count": 3,
   "metadata": {},
   "outputs": [],
   "source": [
    "core_api_instance = client.CoreV1Api()\n",
    "batch_api_instance = client.BatchV1Api()"
   ]
  },
  {
   "cell_type": "code",
   "execution_count": 5,
   "metadata": {},
   "outputs": [],
   "source": [
    "def create_persistent_volume_claim(client, api_instance, namespace, name, storage_size_in_g):\n",
    "    pvc = client.V1PersistentVolumeClaim()\n",
    "    pvc.api_version = \"v1\"\n",
    "    pvc.kind = \"PersistentVolumeClaim\"\n",
    "    pvc.metadata = client.V1ObjectMeta(name=name)\n",
    "    pvc.spec = client.V1PersistentVolumeClaimSpec(access_modes=[\"ReadWriteMany\"],\n",
    "        resources=client.V1ResourceRequirements(requests={\"storage\" : \"{}Gi\".format(storage_size_in_g)}),\n",
    "        storage_class_name=\"glusterfs-storage\")\n",
    "    api_instance.create_namespaced_persistent_volume_claim(namespace, pvc)"
   ]
  },
  {
   "cell_type": "code",
   "execution_count": 6,
   "metadata": {},
   "outputs": [],
   "source": [
    "def delete_persistent_volume_claim(client, api_instance, namespace, name):\n",
    "    body = client.V1DeleteOptions()\n",
    "    api_instance.delete_namespaced_persistent_volume_claim(name, namespace, body)"
   ]
  },
  {
   "cell_type": "code",
   "execution_count": 7,
   "metadata": {},
   "outputs": [],
   "source": [
    "def create_secret(client, api_instance, namespace, name, string_data):\n",
    "    body = client.V1Secret()\n",
    "    api_instance.create_namespaced_secret(namespace=namespace, body=client.V1Secret(\n",
    "        string_data=string_data,\n",
    "        metadata={\n",
    "          'name': name\n",
    "        }\n",
    "      )\n",
    "    )"
   ]
  },
  {
   "cell_type": "code",
   "execution_count": 8,
   "metadata": {},
   "outputs": [],
   "source": [
    "def create_job(client, api_instance, namespace, job_name, secret_name, image_name, volume_claim_name):\n",
    "    job_metadata = client.V1ObjectMeta(name=job_name)\n",
    "    container = client.V1Container(\n",
    "        image=image_name,\n",
    "        name=\"stage-data\",\n",
    "        working_dir=\"/goodstuff\",\n",
    "        command=[\"ddsclient\",\"download\", \"-p\", \"esd\", \"--include\", \"somefile.txt\"],\n",
    "        env=[\n",
    "          client.V1EnvVar(\n",
    "              name=\"DDSCLIENT_CONF\",\n",
    "              value=\"/etc/ddsclient/config\"\n",
    "          )  \n",
    "        ],\n",
    "        volume_mounts=[\n",
    "            client.V1VolumeMount(\n",
    "                name=\"ddsclient\",\n",
    "                mount_path=\"/etc/ddsclient\"\n",
    "            ),\n",
    "            client.V1VolumeMount(\n",
    "                name=\"datadest\",\n",
    "                mount_path=\"/goodstuff\"\n",
    "            )            \n",
    "        ]\n",
    "    )\n",
    "    spec = client.V1JobSpec(\n",
    "        template=client.V1PodTemplateSpec(\n",
    "            metadata=client.V1ObjectMeta(name=\"job1spec\"),\n",
    "            spec=client.V1PodSpec(\n",
    "                containers=[container], \n",
    "                volumes=[client.V1Volume(\n",
    "                    name=\"ddsclient\", \n",
    "                    secret=client.V1SecretVolumeSource(\n",
    "                        secret_name=secret_name\n",
    "                    )\n",
    "                ),client.V1Volume(\n",
    "                    name=\"datadest\",\n",
    "                    persistent_volume_claim=client.V1PersistentVolumeClaimVolumeSource(\n",
    "                        claim_name=volume_claim_name\n",
    "                    )\n",
    "                )],\n",
    "                restart_policy=\"Never\"\n",
    "            )\n",
    "        )\n",
    "    )\n",
    "    body = client.V1Job(\n",
    "        metadata=job_metadata,\n",
    "        spec=spec)\n",
    "    api_instance.create_namespaced_job(namespace, body)"
   ]
  },
  {
   "cell_type": "code",
   "execution_count": 36,
   "metadata": {},
   "outputs": [],
   "source": [
    "def delete_job(client, api_instance, namespace, name):\n",
    "    # propagation_policy controls deleting pods\n",
    "    api_instance.delete_namespaced_job(name, namespace, \n",
    "                                       body=client.V1DeleteOptions(propagation_policy='Background'))"
   ]
  },
  {
   "cell_type": "code",
   "execution_count": 10,
   "metadata": {},
   "outputs": [],
   "source": [
    "def delete_secret(client, api_instance, namespace, name):\n",
    "    api_instance.delete_namespaced_secret(name, namespace, body=client.V1DeleteOptions())"
   ]
  },
  {
   "cell_type": "code",
   "execution_count": 46,
   "metadata": {
    "scrolled": true
   },
   "outputs": [],
   "source": [
    "def watch_jobs_once(client, api_instance, namespace):\n",
    "    job_list = api_instance.list_namespaced_job(namespace)\n",
    "    print(\"JOBS\")\n",
    "    for job in job_list.items:\n",
    "        print(\"name: {} active:{} succeeded:{} failed: {}\".format(\n",
    "            job.metadata.name, job.status.active, job.status.succeeded, job.status.failed))\n",
    "\n",
    "def watch_jobs_loop(client, api_instance, namespace):\n",
    "    count = 1\n",
    "    w = watch.Watch()\n",
    "    for event in w.stream(api_instance.list_namespaced_job, namespace, _request_timeout=1):\n",
    "        job = event['object']\n",
    "        print(\"{} name: {} active:{} succeeded:{} failed: {}\".format(event['type'],\n",
    "            job.metadata.name, job.status.active, job.status.succeeded, job.status.failed))\n",
    "        count -= 1\n",
    "        if not count:\n",
    "            w.stop()"
   ]
  },
  {
   "cell_type": "code",
   "execution_count": 38,
   "metadata": {},
   "outputs": [
    {
     "name": "stderr",
     "output_type": "stream",
     "text": [
      "/Users/jpb67/Documents/work/k8vol/venv/lib/python3.6/site-packages/urllib3/connectionpool.py:847: InsecureRequestWarning: Unverified HTTPS request is being made. Adding certificate verification is strongly advised. See: https://urllib3.readthedocs.io/en/latest/advanced-usage.html#ssl-warnings\n",
      "  InsecureRequestWarning)\n",
      "/Users/jpb67/Documents/work/k8vol/venv/lib/python3.6/site-packages/urllib3/connectionpool.py:847: InsecureRequestWarning: Unverified HTTPS request is being made. Adding certificate verification is strongly advised. See: https://urllib3.readthedocs.io/en/latest/advanced-usage.html#ssl-warnings\n",
      "  InsecureRequestWarning)\n",
      "/Users/jpb67/Documents/work/k8vol/venv/lib/python3.6/site-packages/urllib3/connectionpool.py:847: InsecureRequestWarning: Unverified HTTPS request is being made. Adding certificate verification is strongly advised. See: https://urllib3.readthedocs.io/en/latest/advanced-usage.html#ssl-warnings\n",
      "  InsecureRequestWarning)\n"
     ]
    }
   ],
   "source": [
    "job_name = \"job10\"\n",
    "create_persistent_volume_claim(client, core_api_instance, namespace, volume_name, storage_size_in_g=2)\n",
    "create_secret(client, core_api_instance, namespace, secret_name, {\"config\": ddsclient_secret_config})\n",
    "create_job(client, batch_api_instance, namespace, job_name, secret_name, image_name=\"jbradley/dukedsclient\",\n",
    "           volume_claim_name=volume_name)"
   ]
  },
  {
   "cell_type": "code",
   "execution_count": 47,
   "metadata": {},
   "outputs": [
    {
     "name": "stdout",
     "output_type": "stream",
     "text": [
      "ADDED name: job10 active:None succeeded:1 failed: None\n"
     ]
    },
    {
     "name": "stderr",
     "output_type": "stream",
     "text": [
      "/Users/jpb67/Documents/work/k8vol/venv/lib/python3.6/site-packages/urllib3/connectionpool.py:847: InsecureRequestWarning: Unverified HTTPS request is being made. Adding certificate verification is strongly advised. See: https://urllib3.readthedocs.io/en/latest/advanced-usage.html#ssl-warnings\n",
      "  InsecureRequestWarning)\n"
     ]
    }
   ],
   "source": [
    "#watch_jobs_once(client, batch_api_instance, namespace)\n",
    "watch_jobs_loop(client, batch_api_instance, namespace)"
   ]
  },
  {
   "cell_type": "code",
   "execution_count": 48,
   "metadata": {},
   "outputs": [
    {
     "name": "stderr",
     "output_type": "stream",
     "text": [
      "/Users/jpb67/Documents/work/k8vol/venv/lib/python3.6/site-packages/urllib3/connectionpool.py:847: InsecureRequestWarning: Unverified HTTPS request is being made. Adding certificate verification is strongly advised. See: https://urllib3.readthedocs.io/en/latest/advanced-usage.html#ssl-warnings\n",
      "  InsecureRequestWarning)\n",
      "/Users/jpb67/Documents/work/k8vol/venv/lib/python3.6/site-packages/urllib3/connectionpool.py:847: InsecureRequestWarning: Unverified HTTPS request is being made. Adding certificate verification is strongly advised. See: https://urllib3.readthedocs.io/en/latest/advanced-usage.html#ssl-warnings\n",
      "  InsecureRequestWarning)\n",
      "/Users/jpb67/Documents/work/k8vol/venv/lib/python3.6/site-packages/urllib3/connectionpool.py:847: InsecureRequestWarning: Unverified HTTPS request is being made. Adding certificate verification is strongly advised. See: https://urllib3.readthedocs.io/en/latest/advanced-usage.html#ssl-warnings\n",
      "  InsecureRequestWarning)\n"
     ]
    }
   ],
   "source": [
    "delete_job(client, batch_api_instance, namespace, job_name)\n",
    "delete_secret(client, core_api_instance, namespace, secret_name)\n",
    "delete_persistent_volume_claim(client, core_api_instance, namespace, volume_name)"
   ]
  },
  {
   "cell_type": "code",
   "execution_count": null,
   "metadata": {},
   "outputs": [],
   "source": []
  }
 ],
 "metadata": {
  "kernelspec": {
   "display_name": "Python 3",
   "language": "python",
   "name": "python3"
  },
  "language_info": {
   "codemirror_mode": {
    "name": "ipython",
    "version": 3
   },
   "file_extension": ".py",
   "mimetype": "text/x-python",
   "name": "python",
   "nbconvert_exporter": "python",
   "pygments_lexer": "ipython3",
   "version": "3.6.5"
  }
 },
 "nbformat": 4,
 "nbformat_minor": 2
}
